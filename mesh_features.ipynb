{
 "cells": [
  {
   "cell_type": "code",
   "execution_count": 1,
   "metadata": {},
   "outputs": [
    {
     "data": {
      "text/plain": [
       "np.float64(0.8832772074186444)"
      ]
     },
     "execution_count": 1,
     "metadata": {},
     "output_type": "execute_result"
    }
   ],
   "source": [
    "from MeshObject import *\n",
    "\n",
    "path = \"../ShapeDatabase_INFOMR/Door/D01121.obj\"\n",
    "mesh = MeshObject(path, True)\n",
    "bb = mesh.bounding_box\n",
    "\n",
    "x = abs(bb[1]-bb[0])\n",
    "y = abs(bb[3]-bb[2])\n",
    "z = abs(bb[5]-bb[4])\n",
    "\n",
    "obb = x*y*z\n",
    "mesh.volume()/obb"
   ]
  },
  {
   "cell_type": "code",
   "execution_count": null,
   "metadata": {},
   "outputs": [
    {
     "data": {
      "text/plain": [
       "2.3642849031428805"
      ]
     },
     "execution_count": 2,
     "metadata": {},
     "output_type": "execute_result"
    }
   ],
   "source": [
    "mesh.area()"
   ]
  },
  {
   "cell_type": "code",
   "execution_count": null,
   "metadata": {},
   "outputs": [
    {
     "data": {
      "text/plain": [
       "np.float64(0.014375815575831055)"
      ]
     },
     "execution_count": 3,
     "metadata": {},
     "output_type": "execute_result"
    }
   ],
   "source": [
    "def signed_volume_custom(triangle):\n",
    "    p1 = triangle[0]\n",
    "    p2 = triangle[1]\n",
    "    p3 = triangle[2]\n",
    "\n",
    "    vol321 = p3[0] * p2[1] * p1[2]\n",
    "    vol231 = p2[0] * p3[1] * p1[2]\n",
    "    vol312 = p3[0] * p1[1] * p2[2]\n",
    "    vol132 = p1[0] * p3[1] * p2[2]\n",
    "    vol213 = p2[0] * p1[1] * p3[2]\n",
    "    vol123 = p1[0] * p2[1] * p3[2]\n",
    "\n",
    "    vol = (1/6) * (-vol321 + vol231 + vol312 - vol132 - vol213 + vol123)\n",
    "    return vol\n",
    "\n",
    "coords = mesh.coordinates\n",
    "cell_connectivity_ids = mesh.cells\n",
    "\n",
    "vols = []\n",
    "for connected in cell_connectivity_ids:\n",
    "    triangle = coords[connected]\n",
    "    volume = signed_volume_custom(triangle)\n",
    "    vols += [volume]\n",
    "\n",
    "volume = abs(sum(vols))\n",
    "volume"
   ]
  },
  {
   "cell_type": "code",
   "execution_count": null,
   "metadata": {},
   "outputs": [
    {
     "data": {
      "text/plain": [
       "(array([4.60918766e-02, 1.31094121e-04, 1.41156455e-01]),\n",
       " array([[-1.38645915e-16,  1.06956603e-12,  1.00000000e+00],\n",
       "        [-1.00000000e+00,  4.10399424e-12, -1.38645919e-16],\n",
       "        [-4.10399424e-12, -1.00000000e+00,  1.06956603e-12]]))"
      ]
     },
     "execution_count": 2,
     "metadata": {},
     "output_type": "execute_result"
    }
   ],
   "source": [
    "from Pipeline import *\n",
    "\n",
    "Pipeline._eigen_vectors(None,mesh)"
   ]
  },
  {
   "cell_type": "code",
   "execution_count": null,
   "metadata": {},
   "outputs": [
    {
     "data": {
      "text/plain": [
       "np.float64(1.1521053224033988)"
      ]
     },
     "execution_count": 27,
     "metadata": {},
     "output_type": "execute_result"
    }
   ],
   "source": [
    "mesh.diagonal_size()"
   ]
  }
 ],
 "metadata": {
  "kernelspec": {
   "display_name": "mr_project",
   "language": "python",
   "name": "python3"
  },
  "language_info": {
   "codemirror_mode": {
    "name": "ipython",
    "version": 3
   },
   "file_extension": ".py",
   "mimetype": "text/x-python",
   "name": "python",
   "nbconvert_exporter": "python",
   "pygments_lexer": "ipython3",
   "version": "3.12.4"
  }
 },
 "nbformat": 4,
 "nbformat_minor": 2
}
