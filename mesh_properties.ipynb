{
 "cells": [
  {
   "cell_type": "code",
   "execution_count": 2,
   "metadata": {},
   "outputs": [
    {
     "name": "stdout",
     "output_type": "stream",
     "text": [
      "1.2326528898535194\n"
     ]
    }
   ],
   "source": [
    "from MeshObject import *\n",
    "from Pipeline import *\n",
    "import mesh_properties\n",
    "\n",
    "path = \"../ShapeDatabase/Door/D01121.obj\"\n",
    "mesh = MeshObject(path, True)\n",
    "\n",
    "pipeline = Pipeline([\"subdivision\"])\n",
    "mesh = pipeline.normalize_shape(mesh)\n",
    "\n",
    "print(mesh_properties.convexity(mesh).volume())\n",
    "\n",
    "# \"subdivision\"\n",
    "# \"barycenter_translation\"\n",
    "# \"axis_alignment\"\n",
    "# \"flip_moment\"\n",
    "# \"scaling\""
   ]
  }
 ],
 "metadata": {
  "kernelspec": {
   "display_name": ".venv",
   "language": "python",
   "name": "python3"
  },
  "language_info": {
   "codemirror_mode": {
    "name": "ipython",
    "version": 3
   },
   "file_extension": ".py",
   "mimetype": "text/x-python",
   "name": "python",
   "nbconvert_exporter": "python",
   "pygments_lexer": "ipython3",
   "version": "3.12.6"
  }
 },
 "nbformat": 4,
 "nbformat_minor": 2
}
