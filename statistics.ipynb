{
 "cells": [
  {
   "cell_type": "code",
   "execution_count": null,
   "metadata": {},
   "outputs": [],
   "source": [
    "import numpy as np\n",
    "import vedo\n",
    "import os\n",
    "from tqdm import tqdm\n",
    "from MeshObject import *\n",
    "import pandas as pd\n",
    "from Pipeline import *\n",
    "\n",
    "shape_path_orig = \"../ShapeDatabase_INFOMR_orig\"\n",
    "# HISTOGRAM FOR EACH NORMALIZATION STEP\n",
    "# FOR PCA STEP - COMPUTE PCA FIRST, THEN COMPUTE PCA SECOND TIME ON ALIGNED SHAPE = IF DOT PRODUCT IS 1 FOR ONE (OR ALL?) AXIS - IT'S ALL GOOD"
   ]
  },
  {
   "cell_type": "code",
   "execution_count": null,
   "metadata": {},
   "outputs": [],
   "source": [
    "def object_statistics(mesh: MeshObject):\n",
    "    return {\n",
    "        \"name\": mesh.name,\n",
    "        \"class\": mesh.class_type,\n",
    "        \"nfaces\": mesh.n_faces,\n",
    "        \"nvertices\": mesh.n_vertices,\n",
    "        \"face_type\": mesh.face_type,\n",
    "        \"bounding_box\": mesh.bounding_box\n",
    "    }\n",
    "\n",
    "def dataset_statistics(shape_path):\n",
    "    #### BOUNDING BOX!! AXIS ALIGNED VIA XMAX-XMIN - compare with builtin bounds()\n",
    "    stats = {\n",
    "        \"name\": [],\n",
    "        \"class\": [],\n",
    "        \"nfaces\": [],\n",
    "        \"nvertices\": [],\n",
    "        \"face_type\": [],\n",
    "        \"bounding_box\": []\n",
    "    }\n",
    "\n",
    "    # remove any directories that might not contain .obj files\n",
    "    classes = [class_type for class_type in os.listdir(shape_path_orig) if os.path.isdir((os.path.join(shape_path_orig, class_type))) and class_type != \".git\"]\n",
    "    for class_type in tqdm(classes):\n",
    "        class_path = os.path.join(shape_path_orig, class_type)\n",
    "\n",
    "        for obj_name in os.listdir(class_path):\n",
    "            obj_path = os.path.join(class_path, obj_name)\n",
    "            obj = MeshObject(obj_path, False, name=obj_name, class_type=class_type)\n",
    "\n",
    "            # add to global dictionary\n",
    "            obj_stats = object_statistics(obj)\n",
    "            for attribute in stats.keys():\n",
    "                stats[attribute].append(obj_stats[attribute]) \n",
    "\n",
    "    return stats\n",
    "\n",
    "stats = dataset_statistics(shape_path_orig)"
   ]
  },
  {
   "cell_type": "code",
   "execution_count": null,
   "metadata": {},
   "outputs": [],
   "source": [
    "df = pd.DataFrame(stats)\n",
    "# df.to_csv(\"original_data_statistics.csv\", index=False)\n",
    "df.to_pickle(\"original_data_statistics.pickle\")\n",
    "df"
   ]
  },
  {
   "cell_type": "markdown",
   "metadata": {},
   "source": [
    "# Finding different shapes accroding to vertex/face count"
   ]
  },
  {
   "cell_type": "code",
   "execution_count": null,
   "metadata": {},
   "outputs": [],
   "source": [
    "from math import ceil\n",
    "import matplotlib.pyplot as plt\n",
    "import seaborn as sns\n",
    "import numpy as np"
   ]
  },
  {
   "cell_type": "code",
   "execution_count": null,
   "metadata": {},
   "outputs": [],
   "source": [
    "avg_vertex_num = np.mean(df.nvertices)\n",
    "avg_face_num = np.mean(df.nfaces)\n",
    "\n",
    "vertex_avg = np.argmin([abs(shape-avg_vertex_num) for shape in df.nvertices.to_numpy()])\n",
    "face_avg = np.argmin([abs(shape-avg_face_num) for shape in df.nfaces.to_numpy()])\n",
    "\n",
    "vertex_min = np.argmin(df.nvertices.to_numpy())\n",
    "face_min = np.argmin(df.nfaces.to_numpy())\n",
    "\n",
    "vertex_max = np.argmax(df.nvertices.to_numpy())\n",
    "face_max = np.argmax(df.nfaces.to_numpy())\n",
    "\n",
    "print(f\"ID of shape with an average count of vertices {vertex_avg}={df.iloc[vertex_avg].nvertices}, with the average number being {avg_vertex_num:.3f}\")\n",
    "print(f\"ID of shape with an average count of vertices {face_avg}={df.iloc[face_avg].nfaces}, with the average number being {avg_face_num:.3f}\")\n",
    "print(\"-----------------\")\n",
    "print(f\"ID of shape with lowest count of vertices {vertex_min}={df.iloc[vertex_min].nvertices}\")\n",
    "print(f\"ID of shape with lowest count of faces {face_min}={df.iloc[face_min].nfaces}\")\n",
    "print(\"-----------------\")\n",
    "print(f\"ID of shape with highest count of vertices {vertex_max}={df.iloc[vertex_max].nvertices}\")\n",
    "print(f\"ID of shape with highest count of faces {face_max}={df.iloc[face_max].nfaces}\")"
   ]
  },
  {
   "cell_type": "markdown",
   "metadata": {},
   "source": [
    "## Average shape"
   ]
  },
  {
   "cell_type": "code",
   "execution_count": null,
   "metadata": {},
   "outputs": [],
   "source": [
    "avg_shape_vertex = df.iloc[vertex_avg]\n",
    "avg_shape_face = df.iloc[face_avg]\n",
    "avg_shape_vertex, avg_shape_face"
   ]
  },
  {
   "cell_type": "code",
   "execution_count": null,
   "metadata": {},
   "outputs": [],
   "source": [
    "mesh = MeshObject(os.path.join(shape_path_orig, avg_shape_vertex[\"class\"], avg_shape_vertex[\"name\"]), visualize=True)\n",
    "mesh.plotter.title = \"Average shape in terms of number of vertices\"\n",
    "mesh.show()"
   ]
  },
  {
   "cell_type": "code",
   "execution_count": null,
   "metadata": {},
   "outputs": [],
   "source": [
    "mesh = MeshObject(os.path.join(shape_path_orig, avg_shape_face[\"class\"], avg_shape_face[\"name\"]), visualize=True)\n",
    "mesh.plotter.title = \"Average shape in terms of number of faces\"\n",
    "mesh.show()"
   ]
  },
  {
   "cell_type": "markdown",
   "metadata": {},
   "source": [
    "## Minimum shape"
   ]
  },
  {
   "cell_type": "code",
   "execution_count": null,
   "metadata": {},
   "outputs": [],
   "source": [
    "min_shape_vertex = df.iloc[vertex_min]\n",
    "min_shape_face = df.iloc[face_min]\n",
    "min_shape_vertex, min_shape_face"
   ]
  },
  {
   "cell_type": "code",
   "execution_count": null,
   "metadata": {},
   "outputs": [],
   "source": [
    "mesh = MeshObject(os.path.join(shape_path_orig, min_shape_vertex[\"class\"], min_shape_vertex[\"name\"]), visualize=True)\n",
    "mesh.plotter.title = \"Smallest shape in terms of number of vertices\"\n",
    "mesh.show()"
   ]
  },
  {
   "cell_type": "code",
   "execution_count": null,
   "metadata": {},
   "outputs": [],
   "source": [
    "mesh = MeshObject(os.path.join(shape_path_orig, min_shape_face[\"class\"], min_shape_face[\"name\"]), visualize=True)\n",
    "mesh.plotter.title = \"Smallest shape in terms of number of faces\"\n",
    "mesh.show()"
   ]
  },
  {
   "cell_type": "markdown",
   "metadata": {},
   "source": [
    "## Maximum"
   ]
  },
  {
   "cell_type": "code",
   "execution_count": null,
   "metadata": {},
   "outputs": [],
   "source": [
    "max_shape_vertex = df.iloc[vertex_max]\n",
    "max_shape_face = df.iloc[face_max]\n",
    "max_shape_vertex, max_shape_face"
   ]
  },
  {
   "cell_type": "code",
   "execution_count": null,
   "metadata": {},
   "outputs": [],
   "source": [
    "mesh = MeshObject(os.path.join(shape_path_orig, max_shape_vertex[\"class\"], max_shape_vertex[\"name\"]), visualize=True)\n",
    "mesh.plotter.title = \"Biggest shape in terms of number of vertices\"\n",
    "mesh.show()"
   ]
  },
  {
   "cell_type": "code",
   "execution_count": null,
   "metadata": {},
   "outputs": [],
   "source": [
    "mesh = MeshObject(os.path.join(shape_path_orig, max_shape_face[\"class\"], max_shape_face[\"name\"]), visualize=True)\n",
    "mesh.plotter.title = \"Biggest shape in terms of number of faces\"\n",
    "mesh.show()"
   ]
  },
  {
   "cell_type": "code",
   "execution_count": null,
   "metadata": {},
   "outputs": [],
   "source": [
    "df[df[\"class\"] == \"Skyscraper\"].nvertices.max()"
   ]
  },
  {
   "cell_type": "markdown",
   "metadata": {},
   "source": [
    "# Overall statistics"
   ]
  },
  {
   "cell_type": "code",
   "execution_count": null,
   "metadata": {},
   "outputs": [],
   "source": [
    "def plot_attribute(df, attribute, estimator):\n",
    "    label_name_map = {\n",
    "        \"nvertices\": \"vertices\",\n",
    "        \"nfaces\": \"faces\",\n",
    "        \"class\": \"shapes\"\n",
    "    }\n",
    "\n",
    "    aux_df = df\n",
    "    sns.set_theme(style=\"whitegrid\")\n",
    "\n",
    "    plt.figure(figsize=(16,9))\n",
    "    if type(df[attribute].iloc[0]) is not str:\n",
    "        mean_value_attribute = np.mean(df[attribute])\n",
    "        aux_df = df.sort_values(attribute, ascending=False).reset_index(drop=True)\n",
    "        sns.barplot(data=aux_df, x=\"class\", y=attribute, estimator=estimator) # switch to sum/mean - mean might not be best?\n",
    "    else:\n",
    "        mean_value_attribute = np.mean(aux_df[\"class\"].value_counts())\n",
    "        sns.countplot(data=aux_df, x=\"class\", order=aux_df[\"class\"].value_counts().index) # switch to sum/mean - mean might not be best?\n",
    "        \n",
    "    plt.xticks(rotation=90)\n",
    "    sns.despine()\n",
    "    if type(df[attribute].iloc[0]) is not str:\n",
    "        plt.text(x=64, y=mean_value_attribute + mean_value_attribute*0.1, s=f\"{mean_value_attribute:.3f}\", color=\"red\")\n",
    "    else:\n",
    "        plt.text(x=64, y=mean_value_attribute + 2, s=f\"{mean_value_attribute:.3f}\", color=\"red\")\n",
    "\n",
    "    plt.hlines(y=mean_value_attribute, xmin=-1, xmax=69, colors=\"red\", linestyles=\"dashed\")\n",
    "    plt.xlim((-1,69))\n",
    "    plt.xlabel(\"Class\")\n",
    "    plt.ylabel(f\"Number of {label_name_map[attribute]}\")\n",
    "    plt.show()"
   ]
  },
  {
   "cell_type": "code",
   "execution_count": null,
   "metadata": {},
   "outputs": [],
   "source": [
    "import seaborn as sns\n",
    "\n",
    "sns.histplot(x=np.log10(df[\"nvertices\"]))"
   ]
  },
  {
   "cell_type": "code",
   "execution_count": null,
   "metadata": {},
   "outputs": [],
   "source": [
    "plot_attribute(df, \"nvertices\", \"max\")"
   ]
  },
  {
   "cell_type": "code",
   "execution_count": null,
   "metadata": {},
   "outputs": [],
   "source": [
    "plot_attribute(df, \"nfaces\", \"max\")"
   ]
  },
  {
   "cell_type": "code",
   "execution_count": null,
   "metadata": {},
   "outputs": [],
   "source": [
    "plot_attribute(df, \"class\", None)"
   ]
  },
  {
   "cell_type": "code",
   "execution_count": null,
   "metadata": {},
   "outputs": [],
   "source": [
    "df[(df[\"nfaces\"] < 100) | (df[\"nvertices\"] < 100)].to_pickle(\"outliers_dataset.pickle\")"
   ]
  },
  {
   "cell_type": "code",
   "execution_count": null,
   "metadata": {},
   "outputs": [],
   "source": [
    "import pickle\n",
    "import pandas as pd\n",
    "\n",
    "df = pd.read_pickle(\"original_data_statistics.pickle\")\n",
    "df_outliers = pd.read_pickle(\"outliers_dataset.pickle\")\n",
    "df_outliers"
   ]
  },
  {
   "cell_type": "code",
   "execution_count": null,
   "metadata": {},
   "outputs": [],
   "source": [
    "def _subdivide_shape(vedo_mesh: MeshObject, subdivision_type: str=\"centroid\", threshold: int=5610):\n",
    "        if not vedo_mesh.is_manifold():\n",
    "            return vedo_mesh\n",
    "        \n",
    "        match subdivision_type:\n",
    "            case \"loop\":\n",
    "                subdivision_type = 0\n",
    "            case \"linear\":\n",
    "                subdivision_type = 1\n",
    "            case \"adaptive\":\n",
    "                subdivision_type = 2\n",
    "            case \"butterfly\":\n",
    "                subdivision_type = 3\n",
    "            case \"centroid\":\n",
    "                subdivision_type = 4\n",
    "        last_vertex_count = -1\n",
    "        while vedo_mesh.n_vertices < threshold:\n",
    "            vedo_mesh = vedo_mesh.subdivide(1, method=subdivision_type)\n",
    "            if last_vertex_count == vedo_mesh.n_vertices:\n",
    "                break\n",
    "            last_vertex_count = vedo_mesh.n_vertices\n",
    "        vedo_mesh.decimate(0.5, threshold)\n",
    "\n",
    "        return vedo_mesh\n",
    "\n",
    "_subdivide_shape(mesh)"
   ]
  },
  {
   "cell_type": "code",
   "execution_count": null,
   "metadata": {},
   "outputs": [],
   "source": [
    "import numpy as np\n",
    "import vedo\n",
    "import os\n",
    "from tqdm import tqdm\n",
    "from MeshObject import *\n",
    "import pandas as pd\n",
    "from Pipeline import *\n",
    "\n",
    "# HISTOGRAM FOR EACH NORMALIZATION STEP\n",
    "# FOR PCA STEP - COMPUTE PCA FIRST, THEN COMPUTE PCA SECOND TIME ON ALIGNED SHAPE = IF DOT PRODUCT IS 1 FOR ONE (OR ALL?) AXIS - IT'S ALL GOOD\n",
    "\n",
    "# from processing_functions import subdivide_shape\n",
    "\n",
    "import pickle\n",
    "import pandas as pd\n",
    "\n",
    "df = pd.read_pickle(\"original_data_statistics.pickle\")\n",
    "\n",
    "from Pipeline import *\n",
    "\n",
    "pipeline = Pipeline(pipeline_parameters={\"subdivide\": {\"threshold\": 5610, \"subdivision_type\": \"centroid\"}})\n",
    "\n",
    "from collections import defaultdict\n",
    "new_path_shape = \"../ShapeDatabase_INFOMR\"\n",
    "nontwomanifold_faces = defaultdict(list)\n",
    "class_type, obj_name = \"\", \"\"\n",
    "iterator = tqdm(zip(df[\"class\"], df[\"name\"]), total=len(df), desc=f\"{class_type} - {obj_name}\")\n",
    "ok = []\n",
    "for class_type, obj_name in iterator:\n",
    "    path = os.path.join(shape_path_orig, class_type, obj_name)\n",
    "    new_path = os.path.join(new_path_shape, class_type, obj_name)\n",
    "    mesh = MeshObject(path, True, class_type=class_type, name=obj_name)\n",
    "\n",
    "    if mesh.is_manifold():\n",
    "        mesh: MeshObject = pipeline.normalize_shape(mesh)\n",
    "    else:\n",
    "        nontwomanifold_faces[class_type] += [obj_name]\n",
    "        # mesh = mesh.non_manifold_faces(tol=0).fill_holes()\n",
    "        # mesh: MeshObject = pipeline.normalize_shape(mesh)\n",
    "\n",
    "    iterator.set_description(f\"{class_type} - {obj_name}\")\n",
    "    vedo.save(mesh, new_path)\n"
   ]
  },
  {
   "cell_type": "code",
   "execution_count": null,
   "metadata": {},
   "outputs": [],
   "source": [
    "s=defaultdict(list)\n",
    "for class_type, objs in nontwomanifold_faces.items():\n",
    "    iterator = tqdm(objs, desc=\"\")\n",
    "    for obj in iterator:\n",
    "        mesh = MeshObject(os.path.join(shape_path_orig, class_type, obj), visualize=True)\n",
    "        iterator.set_description(f\"{class_type}={obj}\")\n",
    "        try:\n",
    "            mesh.non_manifold_faces(tol=0).fill_holes()\n",
    "        except:\n",
    "            s[class_type] += [obj]"
   ]
  },
  {
   "cell_type": "code",
   "execution_count": 41,
   "metadata": {},
   "outputs": [
    {
     "data": {
      "text/plain": [
       "defaultdict(list,\n",
       "            {'ClassicPiano': ['D00314.obj',\n",
       "              'D00009.obj',\n",
       "              'D00605.obj',\n",
       "              'D00190.obj',\n",
       "              'D00120.obj',\n",
       "              'D00784.obj',\n",
       "              'D00305.obj',\n",
       "              'D00279.obj',\n",
       "              'D00034.obj',\n",
       "              'D00092.obj',\n",
       "              'D00789.obj',\n",
       "              'D00233.obj',\n",
       "              'D00811.obj',\n",
       "              'D00845.obj',\n",
       "              'D00561.obj',\n",
       "              'D00983.obj',\n",
       "              'D00254.obj',\n",
       "              'D00579.obj',\n",
       "              'D00967.obj',\n",
       "              'D00005.obj'],\n",
       "             'Humanoid': ['m165.obj', 'm166.obj', 'm219.obj'],\n",
       "             'Spoon': ['D00474.obj',\n",
       "              'D00562.obj',\n",
       "              'D00196.obj',\n",
       "              'D00669.obj',\n",
       "              'D00085.obj',\n",
       "              'D00144.obj',\n",
       "              'D00517.obj',\n",
       "              'D00683.obj',\n",
       "              'D00497.obj',\n",
       "              'D00842.obj',\n",
       "              'D00790.obj',\n",
       "              'D00157.obj',\n",
       "              'D00422.obj',\n",
       "              'D00593.obj',\n",
       "              'D00927.obj',\n",
       "              'D00014.obj',\n",
       "              'D00674.obj',\n",
       "              'D00661.obj',\n",
       "              'D00964.obj',\n",
       "              'D00338.obj'],\n",
       "             'RoundTable': ['D00107.obj'],\n",
       "             'Vase': ['m541.obj'],\n",
       "             'Jet': ['m1176.obj'],\n",
       "             'Mug': ['D00923.obj'],\n",
       "             'Drum': ['D00383.obj',\n",
       "              'D00375.obj',\n",
       "              'D00063.obj',\n",
       "              'D00980.obj',\n",
       "              'D00551.obj',\n",
       "              'D00596.obj',\n",
       "              'D00557.obj',\n",
       "              'D00189.obj',\n",
       "              'D00298.obj',\n",
       "              'D00115.obj',\n",
       "              'D00026.obj',\n",
       "              'D00308.obj',\n",
       "              'D00939.obj',\n",
       "              'D00404.obj',\n",
       "              'D00709.obj',\n",
       "              'D00163.obj',\n",
       "              'D00193.obj',\n",
       "              'D00297.obj',\n",
       "              'D00951.obj'],\n",
       "             'Train': ['D01055.obj',\n",
       "              'D01014.obj',\n",
       "              'D01059.obj',\n",
       "              'D01016.obj',\n",
       "              'D01061.obj',\n",
       "              'D01134.obj',\n",
       "              'D01094.obj',\n",
       "              'D01147.obj',\n",
       "              'D01149.obj',\n",
       "              'D01163.obj',\n",
       "              'D01047.obj',\n",
       "              'D01064.obj',\n",
       "              'D01180.obj',\n",
       "              'D01031.obj',\n",
       "              'D01089.obj',\n",
       "              'D01008.obj'],\n",
       "             'RectangleTable': ['m871.obj', 'D00418.obj', 'm910.obj'],\n",
       "             'Starship': ['m1383.obj'],\n",
       "             'Violin': ['D00620.obj',\n",
       "              'D00598.obj',\n",
       "              'D00358.obj',\n",
       "              'D00743.obj',\n",
       "              'D00250.obj',\n",
       "              'D00340.obj',\n",
       "              'D00704.obj',\n",
       "              'D00701.obj',\n",
       "              'D00570.obj',\n",
       "              'D00324.obj',\n",
       "              'D00993.obj',\n",
       "              'D00376.obj',\n",
       "              'D00891.obj',\n",
       "              'D00108.obj',\n",
       "              'D00216.obj',\n",
       "              'D00506.obj',\n",
       "              'D00898.obj',\n",
       "              'D00349.obj'],\n",
       "             'TruckNonContainer': ['D00699.obj',\n",
       "              'D00731.obj',\n",
       "              'D00783.obj',\n",
       "              'D00143.obj',\n",
       "              'D00055.obj',\n",
       "              'D00283.obj',\n",
       "              'D00619.obj',\n",
       "              'D00267.obj',\n",
       "              'D00572.obj',\n",
       "              'D00553.obj',\n",
       "              'D00879.obj',\n",
       "              'D00148.obj',\n",
       "              'D00737.obj',\n",
       "              'D00266.obj',\n",
       "              'D00215.obj',\n",
       "              'D00353.obj',\n",
       "              'D00252.obj'],\n",
       "             'Knife': ['D01119.obj',\n",
       "              'D01187.obj',\n",
       "              'D01189.obj',\n",
       "              'D01015.obj',\n",
       "              'D01107.obj',\n",
       "              'D01175.obj',\n",
       "              'D01051.obj',\n",
       "              'D01120.obj',\n",
       "              'D01054.obj',\n",
       "              'D01168.obj',\n",
       "              'D01032.obj',\n",
       "              'D01174.obj',\n",
       "              'D01150.obj',\n",
       "              'D01077.obj',\n",
       "              'D01160.obj',\n",
       "              'D01025.obj',\n",
       "              'D01075.obj',\n",
       "              'D01057.obj'],\n",
       "             'ComputerKeyboard': ['D00676.obj',\n",
       "              'D00600.obj',\n",
       "              'D00990.obj',\n",
       "              'D00569.obj',\n",
       "              'D00805.obj',\n",
       "              'D00278.obj',\n",
       "              'D00627.obj',\n",
       "              'D00525.obj',\n",
       "              'D00692.obj',\n",
       "              'D00116.obj',\n",
       "              'D00360.obj',\n",
       "              'D00905.obj',\n",
       "              'D00493.obj',\n",
       "              'D00654.obj'],\n",
       "             'PlantIndoors': ['m1033.obj'],\n",
       "             'Cup': ['D00035.obj'],\n",
       "             'PianoBoard': ['D00181.obj',\n",
       "              'D00623.obj',\n",
       "              'D00212.obj',\n",
       "              'D00718.obj',\n",
       "              'D00966.obj',\n",
       "              'D00755.obj',\n",
       "              'D00962.obj',\n",
       "              'D00381.obj',\n",
       "              'D00253.obj',\n",
       "              'D00441.obj',\n",
       "              'D00721.obj',\n",
       "              'D00122.obj',\n",
       "              'D00075.obj',\n",
       "              'D00065.obj',\n",
       "              'D00460.obj'],\n",
       "             'Sword': ['D00807.obj'],\n",
       "             'HumanHead': ['D00487.obj',\n",
       "              'D00629.obj',\n",
       "              'D00434.obj',\n",
       "              'D00072.obj',\n",
       "              'D00758.obj',\n",
       "              'D00061.obj',\n",
       "              'D00566.obj',\n",
       "              'D00578.obj',\n",
       "              'D00131.obj',\n",
       "              'D00013.obj',\n",
       "              'D00610.obj',\n",
       "              'D00653.obj',\n",
       "              'D00488.obj',\n",
       "              'D00910.obj',\n",
       "              'D00313.obj',\n",
       "              'D00984.obj',\n",
       "              'D00205.obj',\n",
       "              'D00106.obj',\n",
       "              'D00591.obj'],\n",
       "             'Insect': ['D00895.obj', 'D00713.obj'],\n",
       "             'Bookset': ['D01146.obj',\n",
       "              'D01184.obj',\n",
       "              'D01009.obj',\n",
       "              'D01038.obj',\n",
       "              'D01013.obj',\n",
       "              'D01109.obj',\n",
       "              'D01050.obj',\n",
       "              'D01135.obj',\n",
       "              'D01096.obj',\n",
       "              'D01199.obj',\n",
       "              'D01182.obj',\n",
       "              'D01078.obj',\n",
       "              'D01183.obj',\n",
       "              'D01042.obj',\n",
       "              'D01065.obj'],\n",
       "             'Truck': ['D00926.obj',\n",
       "              'D00056.obj',\n",
       "              'D00331.obj',\n",
       "              'D00518.obj',\n",
       "              'D00047.obj',\n",
       "              'D00010.obj',\n",
       "              'D00835.obj',\n",
       "              'D00112.obj',\n",
       "              'D00158.obj',\n",
       "              'D00424.obj',\n",
       "              'D00406.obj',\n",
       "              'D00947.obj',\n",
       "              'D00303.obj',\n",
       "              'D00241.obj',\n",
       "              'D00987.obj',\n",
       "              'D00002.obj',\n",
       "              'D00003.obj',\n",
       "              'D00029.obj'],\n",
       "             'AquaticAnimal': ['m59.obj'],\n",
       "             'Musical_Instrument': ['m633.obj'],\n",
       "             'Bus': ['D00151.obj',\n",
       "              'D00436.obj',\n",
       "              'D00182.obj',\n",
       "              'D00448.obj',\n",
       "              'D00411.obj',\n",
       "              'D00823.obj',\n",
       "              'D00264.obj',\n",
       "              'D00516.obj',\n",
       "              'D00114.obj',\n",
       "              'D00775.obj',\n",
       "              'D00084.obj',\n",
       "              'D00446.obj',\n",
       "              'D00179.obj',\n",
       "              'D00769.obj']})"
      ]
     },
     "execution_count": 41,
     "metadata": {},
     "output_type": "execute_result"
    }
   ],
   "source": [
    "s"
   ]
  },
  {
   "cell_type": "code",
   "execution_count": 2,
   "metadata": {},
   "outputs": [
    {
     "name": "stdout",
     "output_type": "stream",
     "text": [
      "\u001b[7m\u001b[1m\u001b[32mMeshObject.MeshObject at (0x3768ec0)                                       \u001b[0m\n",
      "\u001b[0m\u001b[32;1mfile name     : ../ShapeDatabase_INFOMR_orig/ClassicPiano/D00314.obj\n",
      "color         : gray, rgb=(0.502, 0.502, 0.502), alpha=1.0\n",
      "elements      : vertices=6,800 polygons=31,047 lines=0\n",
      "position      : (0, 0, 0)\n",
      "scaling       : (1.00000, 1.00000, 1.00000)\n",
      "size          : average=0.806473, diagonal=3.78054\n",
      "center of mass: (1.60213, 1.49537, 0.980983)\n",
      "bounds        : x=(0.554, 2.55), y=(0.314, 2.73), z=(-0.0932, 2.02)\n",
      "celldata      : \"GroupIds\" (float32), dim=1, range=(0, 0)\u001b[0m\n",
      "31047\n",
      "[] [1.75962667 1.44791667 1.52143333]\n"
     ]
    },
    {
     "ename": "IndexError",
     "evalue": "arrays used as indices must be of integer (or boolean) type",
     "output_type": "error",
     "traceback": [
      "\u001b[0;31m---------------------------------------------------------------------------\u001b[0m",
      "\u001b[0;31mIndexError\u001b[0m                                Traceback (most recent call last)",
      "Cell \u001b[0;32mIn[2], line 8\u001b[0m\n\u001b[1;32m      6\u001b[0m \u001b[38;5;66;03m# fix = pymeshfix.MeshFix(mesh.vertices, mesh.cells)\u001b[39;00m\n\u001b[1;32m      7\u001b[0m \u001b[38;5;28mprint\u001b[39m(mesh)\n\u001b[0;32m----> 8\u001b[0m \u001b[38;5;28mprint\u001b[39m(\u001b[43mmesh\u001b[49m\u001b[38;5;241;43m.\u001b[39;49m\u001b[43mnon_manifold_faces\u001b[49m\u001b[43m(\u001b[49m\u001b[43mremove\u001b[49m\u001b[38;5;241;43m=\u001b[39;49m\u001b[38;5;28;43;01mFalse\u001b[39;49;00m\u001b[43m)\u001b[49m)\n\u001b[1;32m      9\u001b[0m \u001b[38;5;66;03m# fix.plot(show_holes=False)\u001b[39;00m\n\u001b[1;32m     10\u001b[0m \u001b[38;5;66;03m# fix.repair(verbose=True, joincomp=True, remove_smallest_components=False)\u001b[39;00m\n\u001b[1;32m     11\u001b[0m \u001b[38;5;66;03m# mesh = MeshObject(fix.mesh, visualize=True)\u001b[39;00m\n\u001b[1;32m     12\u001b[0m \u001b[38;5;66;03m# mesh.show()\u001b[39;00m\n\u001b[1;32m     13\u001b[0m \u001b[38;5;66;03m# mesh.non_manifold_faces(remove=False, tol=0)\u001b[39;00m\n",
      "File \u001b[0;32m~/anaconda3/envs/mr_project/lib/python3.12/site-packages/vedo/mesh.py:432\u001b[0m, in \u001b[0;36mMesh.non_manifold_faces\u001b[0;34m(self, remove, tol)\u001b[0m\n\u001b[1;32m    430\u001b[0m pids \u001b[38;5;241m=\u001b[39m copy\u001b[38;5;241m.\u001b[39mclosest_point(centers[i], n\u001b[38;5;241m=\u001b[39m\u001b[38;5;241m3\u001b[39m, return_point_id\u001b[38;5;241m=\u001b[39m\u001b[38;5;28;01mTrue\u001b[39;00m)\n\u001b[1;32m    431\u001b[0m \u001b[38;5;28mprint\u001b[39m(pids, centers[i])\n\u001b[0;32m--> 432\u001b[0m norms \u001b[38;5;241m=\u001b[39m \u001b[43mnormals\u001b[49m\u001b[43m[\u001b[49m\u001b[43mpids\u001b[49m\u001b[43m]\u001b[49m\n\u001b[1;32m    433\u001b[0m n \u001b[38;5;241m=\u001b[39m np\u001b[38;5;241m.\u001b[39mmean(norms, axis\u001b[38;5;241m=\u001b[39m\u001b[38;5;241m0\u001b[39m)\n\u001b[1;32m    434\u001b[0m dn \u001b[38;5;241m=\u001b[39m np\u001b[38;5;241m.\u001b[39mlinalg\u001b[38;5;241m.\u001b[39mnorm(n)\n",
      "\u001b[0;31mIndexError\u001b[0m: arrays used as indices must be of integer (or boolean) type"
     ]
    }
   ],
   "source": [
    "from MeshObject import *\n",
    "import pymeshfix\n",
    "shape_path_orig = \"../ShapeDatabase_INFOMR_orig\"\n",
    "\n",
    "mesh = MeshObject(shape_path_orig + \"/ClassicPiano/D00314.obj\", visualize=True)\n",
    "\n",
    "\n",
    "\n",
    "# fix.plot(show_holes=False)\n",
    "# fix.repair(verbose=True, joincomp=True, remove_smallest_components=False)\n",
    "# mesh = MeshObject(fix.mesh, visualize=True)\n",
    "# mesh.show()\n",
    "# mesh.non_manifold_faces(remove=False, tol=0)"
   ]
  },
  {
   "cell_type": "code",
   "execution_count": null,
   "metadata": {},
   "outputs": [],
   "source": [
    "pymesh = vedo.utils.vedo2meshlab(vedo_mesh)\n",
    "    pymesh_set = pymeshlab.MeshSet()\n",
    "    pymesh_set.add_mesh(pymesh)\n",
    "\n",
    "        match subdivision_type:\n",
    "            case \"midpoint\":\n",
    "                subdivion_func = pymesh_set.meshing_surface_subdivision_midpoint\n",
    "            case \"loop\":\n",
    "                subdivion_func = pymesh_set.meshing_surface_subdivision_loop\n",
    "        \n",
    "        # face_number - number of faces\n",
    "    # vertex_number - number of vertices\n",
    "        if pymesh_set.get_topological_measures()[\"non_two_manifold_edges\"] > 0:\n",
    "            return vedo_mesh\n",
    "\n",
    "        last_vertex_num = -1\n",
    "        while pymesh_set.current_mesh().vertex_number() < threshold:\n",
    "            subdivion_func(iterations=1)\n",
    "            if last_vertex_num == pymesh_set.current_mesh().vertex_number():\n",
    "                break\n",
    "            last_vertex_num = pymesh_set.current_mesh().vertex_number()\n",
    "        # # face_number - number of faces\n",
    "        # # vertex_number - number of vertices\n",
    "        # while pymesh_set.current_mesh().vertex_number() < threshold:\n",
    "        #     subdivion_func(iterations=1)\n",
    "\n",
    "        vedo_mesh = MeshObject(pymesh_set.current_mesh(), vedo_mesh.visualize, **{\"name\": vedo_mesh.name, \"class_type\": vedo_mesh.class_type})\n",
    "        return vedo_mesh"
   ]
  },
  {
   "cell_type": "code",
   "execution_count": 2,
   "metadata": {},
   "outputs": [
    {
     "name": "stdout",
     "output_type": "stream",
     "text": [
      "[13595 12773 12772] [0.41271    0.12171367 0.78834967]\n",
      "[16018 16017 16019] [0.41418867 0.12214567 0.75150933]\n",
      "[12772 13595 12773] [0.41283867 0.121751   0.78845767]\n",
      "[16018 16017 16019] [0.41400233 0.12209133 0.75165367]\n",
      "[12785 12784 12790] [0.41354567 0.12195767 0.767397  ]\n",
      "[13595 12773 12772] [0.412714   0.12171467 0.788353  ]\n",
      "[13595 12773 12772] [0.412714   0.12171467 0.788353  ]\n",
      "[12785 12784 12790] [0.41354567 0.12195767 0.767397  ]\n",
      "[14268 14243 14053] [0.44017    0.13918733 0.82270133]\n",
      "[14268 14243 14053] [0.44014433 0.139085   0.82271467]\n",
      "[14268 14243 14053] [0.440145   0.139087   0.82271433]\n",
      "[14250 14051 14248] [0.42767167 0.129004   0.802014  ]\n",
      "[14250 14051 14248] [0.42869867 0.12958967 0.803537  ]\n",
      "[14250 14051 14248] [0.42806367 0.12897133 0.802436  ]\n",
      "[14250 14051 14248] [0.42869867 0.12958967 0.803537  ]\n"
     ]
    },
    {
     "name": "stderr",
     "output_type": "stream",
     "text": [
      "\u001b[1m[vedo.mesh:461] INFO: \n",
      " --------- Non manifold faces ---------\n",
      " Average tol.   :  0.8139 +-  0.3717\n",
      " Automatic tol. :  0.1628\n",
      " Removed faces  : 15\n",
      " Recovered faces: 0\u001b[0m\n"
     ]
    },
    {
     "data": {
      "text/html": [
       "<table>\n",
       "<tr>\n",
       "<td>\n",
       "<img src='data:image/png;base64,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'></img>\n",
       "</td>\n",
       "<td style='text-align: center; vertical-align: center;'><br/>\n",
       "<b><a href=\"https://vedo.embl.es/docs/vedo/mesh.html#Mesh\" target=\"_blank\">vedo.mesh.Mesh</a></b><br/><code><i>(..._INFOMR_orig/Biplane/m1120.obj)</i></code>\n",
       "<table>\n",
       "<tr><td><b> bounds </b> <br/> (x/y/z) </td><td>0.02500 ... 0.9750<br/>0.02500 ... 0.3700<br/>0.02500 ... 0.8891</td></tr>\n",
       "<tr><td><b> center of mass </b></td><td>(0.500, 0.191, 0.547)</td></tr>\n",
       "<tr><td><b> average size </b></td><td>0.279</td></tr>\n",
       "<tr><td><b> nr. points&nbsp/&nbspfaces </b></td><td>65722&nbsp/&nbsp129881</td></tr>\n",
       "<tr><td><b> point data array </b></td><td>PointID</td></tr>\n",
       "<tr><td><b> cell data array </b></td><td>NonManifoldCell</td></tr>\n",
       "</table>\n",
       "</table>"
      ],
      "text/plain": [
       "<MeshObject.MeshObject at 0x7fb99873ff20>"
      ]
     },
     "execution_count": 2,
     "metadata": {},
     "output_type": "execute_result"
    }
   ],
   "source": [
    "mesh = MeshObject(shape_path_orig + \"/Biplane/m1120.obj\", visualize=True)\n",
    "mesh.non_manifold_faces(remove=False)"
   ]
  }
 ],
 "metadata": {
  "kernelspec": {
   "display_name": "mr_project",
   "language": "python",
   "name": "python3"
  },
  "language_info": {
   "codemirror_mode": {
    "name": "ipython",
    "version": 3
   },
   "file_extension": ".py",
   "mimetype": "text/x-python",
   "name": "python",
   "nbconvert_exporter": "python",
   "pygments_lexer": "ipython3",
   "version": "3.12.4"
  }
 },
 "nbformat": 4,
 "nbformat_minor": 2
}
