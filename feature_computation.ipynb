{
 "cells": [
  {
   "cell_type": "code",
   "execution_count": 2,
   "metadata": {},
   "outputs": [
    {
     "name": "stderr",
     "output_type": "stream",
     "text": [
      "House: 100%|██████████| 46/46 [01:28<00:00,  1.92s/it]\n",
      "Car: 100%|██████████| 89/89 [04:42<00:00,  3.17s/it]\n",
      "ClassicPiano: 100%|██████████| 20/20 [00:51<00:00,  2.58s/it]\n",
      "Apartment: 100%|██████████| 23/23 [00:40<00:00,  1.77s/it]\n",
      "MultiSeat: 100%|██████████| 45/45 [07:38<00:00, 10.18s/it]\n",
      "Humanoid: 100%|██████████| 142/142 [03:47<00:00,  1.60s/it]\n",
      "Spoon: 100%|██████████| 20/20 [11:40<00:00, 35.04s/it]\n",
      "Helicopter: 100%|██████████| 51/51 [00:54<00:00,  1.07s/it]\n",
      "DeskPhone:  60%|██████    | 12/20 [00:40<00:27,  3.40s/it]\n"
     ]
    },
    {
     "ename": "KeyboardInterrupt",
     "evalue": "",
     "output_type": "error",
     "traceback": [
      "\u001b[0;31m---------------------------------------------------------------------------\u001b[0m",
      "\u001b[0;31mKeyboardInterrupt\u001b[0m                         Traceback (most recent call last)",
      "Cell \u001b[0;32mIn[2], line 40\u001b[0m\n\u001b[1;32m     38\u001b[0m     \u001b[38;5;28;01mcontinue\u001b[39;00m\n\u001b[1;32m     39\u001b[0m mesh \u001b[38;5;241m=\u001b[39m MeshObject(os\u001b[38;5;241m.\u001b[39mpath\u001b[38;5;241m.\u001b[39mjoin(path_class, shape))\n\u001b[0;32m---> 40\u001b[0m f_vector, unbinned_shape_property \u001b[38;5;241m=\u001b[39m \u001b[43mcompute_feature_vector\u001b[49m\u001b[43m(\u001b[49m\u001b[43mmesh\u001b[49m\u001b[43m,\u001b[49m\u001b[43m \u001b[49m\u001b[43mshape_property_args\u001b[49m\u001b[43m)\u001b[49m\n\u001b[1;32m     41\u001b[0m feature_vectors[\u001b[38;5;124m\"\u001b[39m\u001b[38;5;124mobj_name\u001b[39m\u001b[38;5;124m\"\u001b[39m] \u001b[38;5;241m+\u001b[39m\u001b[38;5;241m=\u001b[39m [shape_name]\n\u001b[1;32m     42\u001b[0m feature_vectors[\u001b[38;5;124m\"\u001b[39m\u001b[38;5;124mclass_type\u001b[39m\u001b[38;5;124m\"\u001b[39m] \u001b[38;5;241m+\u001b[39m\u001b[38;5;241m=\u001b[39m [class_type]\n",
      "File \u001b[0;32m~/Desktop/2024-2025/MR/MR_Project/mesh_properties.py:147\u001b[0m, in \u001b[0;36mcompute_feature_vector\u001b[0;34m(mesh, shape_property_kwargs)\u001b[0m\n\u001b[1;32m    137\u001b[0m scalar_feature_computations \u001b[38;5;241m=\u001b[39m [\n\u001b[1;32m    138\u001b[0m     surface_area,\n\u001b[1;32m    139\u001b[0m     compactness,\n\u001b[0;32m   (...)\u001b[0m\n\u001b[1;32m    143\u001b[0m     eccentricity,\n\u001b[1;32m    144\u001b[0m ]\n\u001b[1;32m    146\u001b[0m \u001b[38;5;28;01mfor\u001b[39;00m f_computation \u001b[38;5;129;01min\u001b[39;00m scalar_feature_computations:\n\u001b[0;32m--> 147\u001b[0m     feature \u001b[38;5;241m=\u001b[39m \u001b[43mf_computation\u001b[49m\u001b[43m(\u001b[49m\u001b[43mmesh\u001b[49m\u001b[43m)\u001b[49m\n\u001b[1;32m    148\u001b[0m     feature_vector \u001b[38;5;241m+\u001b[39m\u001b[38;5;241m=\u001b[39m [feature]\n\u001b[1;32m    151\u001b[0m return_unbinned \u001b[38;5;241m=\u001b[39m shape_property_kwargs[\u001b[38;5;124m\"\u001b[39m\u001b[38;5;124mreturn_unbinned\u001b[39m\u001b[38;5;124m\"\u001b[39m]\n",
      "File \u001b[0;32m~/Desktop/2024-2025/MR/MR_Project/mesh_properties.py:32\u001b[0m, in \u001b[0;36mdiameter\u001b[0;34m(mesh_obj, return_points)\u001b[0m\n\u001b[1;32m     31\u001b[0m \u001b[38;5;28;01mdef\u001b[39;00m \u001b[38;5;21mdiameter\u001b[39m(mesh_obj: MeshObject, return_points\u001b[38;5;241m=\u001b[39m\u001b[38;5;28;01mFalse\u001b[39;00m):\n\u001b[0;32m---> 32\u001b[0m     convex_hull \u001b[38;5;241m=\u001b[39m \u001b[43mcreate_convex_hull\u001b[49m\u001b[43m(\u001b[49m\u001b[43mmesh_obj\u001b[49m\u001b[43m)\u001b[49m\n\u001b[1;32m     33\u001b[0m     max_distance \u001b[38;5;241m=\u001b[39m \u001b[38;5;241m-\u001b[39m\u001b[38;5;241m1\u001b[39m\n\u001b[1;32m     34\u001b[0m     max_distance_points \u001b[38;5;241m=\u001b[39m (\u001b[38;5;28;01mNone\u001b[39;00m, \u001b[38;5;28;01mNone\u001b[39;00m)\n",
      "File \u001b[0;32m~/Desktop/2024-2025/MR/MR_Project/mesh_properties.py:49\u001b[0m, in \u001b[0;36mcreate_convex_hull\u001b[0;34m(mesh_obj)\u001b[0m\n\u001b[1;32m     47\u001b[0m \u001b[38;5;28;01mdef\u001b[39;00m \u001b[38;5;21mcreate_convex_hull\u001b[39m(mesh_obj: MeshObject):\n\u001b[1;32m     48\u001b[0m     coordinates \u001b[38;5;241m=\u001b[39m mesh_obj\u001b[38;5;241m.\u001b[39mcoordinates\n\u001b[0;32m---> 49\u001b[0m     convex_hull \u001b[38;5;241m=\u001b[39m \u001b[43mConvexHull\u001b[49m\u001b[43m(\u001b[49m\u001b[43mcoordinates\u001b[49m\u001b[43m)\u001b[49m\n\u001b[1;32m     50\u001b[0m     \u001b[38;5;28;01mreturn\u001b[39;00m convex_hull\n",
      "File \u001b[0;32m~/anaconda3/envs/mr_project/lib/python3.12/site-packages/vedo/shapes.py:4873\u001b[0m, in \u001b[0;36mConvexHull.__init__\u001b[0;34m(self, pts)\u001b[0m\n\u001b[1;32m   4871\u001b[0m delaunay \u001b[38;5;241m=\u001b[39m vtki\u001b[38;5;241m.\u001b[39mnew(\u001b[38;5;124m\"\u001b[39m\u001b[38;5;124mDelaunay3D\u001b[39m\u001b[38;5;124m\"\u001b[39m)\n\u001b[1;32m   4872\u001b[0m delaunay\u001b[38;5;241m.\u001b[39mSetInputData(apoly)\n\u001b[0;32m-> 4873\u001b[0m \u001b[43mdelaunay\u001b[49m\u001b[38;5;241;43m.\u001b[39;49m\u001b[43mUpdate\u001b[49m\u001b[43m(\u001b[49m\u001b[43m)\u001b[49m\n\u001b[1;32m   4874\u001b[0m surfaceFilter \u001b[38;5;241m=\u001b[39m vtki\u001b[38;5;241m.\u001b[39mnew(\u001b[38;5;124m\"\u001b[39m\u001b[38;5;124mDataSetSurfaceFilter\u001b[39m\u001b[38;5;124m\"\u001b[39m)\n\u001b[1;32m   4875\u001b[0m surfaceFilter\u001b[38;5;241m.\u001b[39mSetInputConnection(delaunay\u001b[38;5;241m.\u001b[39mGetOutputPort())\n",
      "\u001b[0;31mKeyboardInterrupt\u001b[0m: "
     ]
    }
   ],
   "source": [
    "from tqdm import tqdm\n",
    "import pickle\n",
    "\n",
    "import vedo\n",
    "from Pipeline import *\n",
    "from MeshObject import *\n",
    "from mesh_properties import *\n",
    "import os\n",
    "p = Pipeline()\n",
    "# mesh.show()\n",
    "\n",
    "shape_property_args = {\n",
    "    \"num_samples\": 2500,\n",
    "    \"num_bins\": 50,\n",
    "    \"return_unbinned\": True\n",
    "}\n",
    "feature_vectors = {\n",
    "    \"obj_name\": [],\n",
    "    \"class_type\": [],\n",
    "    \"feature_vector\": [],\n",
    "    \"unbinned_shape_property\": []\n",
    "}\n",
    "path = f\"../ShapeDatabase_INFOMR\"\n",
    "path_features = f\"../ShapeDatabase_INFOMR_features\"\n",
    "class_types = os.listdir(path)\n",
    "class_types = [class_type for class_type in class_types if os.path.isdir(path + \"/\" + class_type) and class_type != \".git\"]\n",
    "replace_feature_file = False\n",
    "\n",
    "for class_type in class_types:\n",
    "    path_class = os.path.join(path, class_type)\n",
    "    path_class_features = os.path.join(path_features, class_type)\n",
    "    os.makedirs(os.path.join(path_class_features), exist_ok=True)\n",
    "    for shape in tqdm(os.listdir(path_class), desc=class_type):\n",
    "        shape_name = shape.removesuffix(\".obj\")\n",
    "        feature_file_name = shape.removesuffix(\".obj\") + \".pickle\"\n",
    "        feature_file_name_path = os.path.join(path_class_features, feature_file_name) \n",
    "        if not replace_feature_file and feature_file_name in os.listdir(path_class_features):\n",
    "            continue\n",
    "        mesh = MeshObject(os.path.join(path_class, shape))\n",
    "        f_vector, unbinned_shape_property = compute_feature_vector(mesh, shape_property_args)\n",
    "        feature_vectors[\"obj_name\"] += [shape_name]\n",
    "        feature_vectors[\"class_type\"] += [class_type]\n",
    "        feature_vectors[\"feature_vector\"] += [f_vector]\n",
    "        feature_vectors[\"unbinned_shape_property\"] += [unbinned_shape_property]\n",
    "        feature_dict = {\n",
    "            \"obj_name\": shape_name,\n",
    "            \"class_type\": class_type,\n",
    "            \"feature_vector\": f_vector,\n",
    "            \"unbinned_shape_property\": unbinned_shape_property\n",
    "        }\n",
    "        pickle.dump(feature_dict, open(feature_file_name_path, \"wb\"))"
   ]
  }
 ],
 "metadata": {
  "kernelspec": {
   "display_name": "mr_project",
   "language": "python",
   "name": "python3"
  },
  "language_info": {
   "codemirror_mode": {
    "name": "ipython",
    "version": 3
   },
   "file_extension": ".py",
   "mimetype": "text/x-python",
   "name": "python",
   "nbconvert_exporter": "python",
   "pygments_lexer": "ipython3",
   "version": "3.12.4"
  }
 },
 "nbformat": 4,
 "nbformat_minor": 2
}
